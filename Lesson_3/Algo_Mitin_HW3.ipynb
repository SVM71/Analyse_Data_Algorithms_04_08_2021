{
 "cells": [
  {
   "cell_type": "code",
   "execution_count": 1,
   "metadata": {},
   "outputs": [],
   "source": [
    "import numpy as np"
   ]
  },
  {
   "cell_type": "markdown",
   "metadata": {},
   "source": [
    "__1*. Измените функцию calc_logloss так, чтобы нули по возможности не попадали в np.log.__  "
   ]
  },
  {
   "cell_type": "code",
   "execution_count": 2,
   "metadata": {},
   "outputs": [],
   "source": [
    "def calc_logloss(y, y_pred):\n",
    "    np.where(y_pred == 1, y_pred-0.00001, y_pred )\n",
    "    np.where(y_pred == 0, y_pred+0.00001, y_pred )\n",
    "    err = - np.mean(y * np.log(y_pred) + (1.0 - y) * np.log(1.0 - y_pred))\n",
    "    return err"
   ]
  },
  {
   "cell_type": "markdown",
   "metadata": {},
   "source": [
    "__2. Подберите аргументы функции eval_model для логистической регрессии таким образом, чтобы log loss был минимальным.__"
   ]
  },
  {
   "cell_type": "code",
   "execution_count": 3,
   "metadata": {},
   "outputs": [
    {
     "data": {
      "text/plain": [
       "(array([[1.00e+00, 1.00e+00, 1.00e+00, 1.00e+00, 1.00e+00, 1.00e+00,\n",
       "         1.00e+00, 1.00e+00, 1.00e+00, 1.00e+00],\n",
       "        [1.00e+00, 1.00e+00, 2.00e+00, 1.00e+00, 3.00e+00, 0.00e+00,\n",
       "         5.00e+00, 1.00e+01, 1.00e+00, 2.00e+00],\n",
       "        [5.00e+02, 7.00e+02, 7.50e+02, 6.00e+02, 1.45e+03, 8.00e+02,\n",
       "         1.50e+03, 2.00e+03, 4.50e+02, 1.00e+03],\n",
       "        [1.00e+00, 1.00e+00, 2.00e+00, 1.00e+00, 2.00e+00, 1.00e+00,\n",
       "         3.00e+00, 3.00e+00, 1.00e+00, 2.00e+00]]),\n",
       " array([0., 0., 1., 0., 1., 0., 1., 0., 1., 1.]))"
      ]
     },
     "execution_count": 3,
     "metadata": {},
     "output_type": "execute_result"
    }
   ],
   "source": [
    "X = np.array([[1, 1, 1, 1, 1, 1, 1, 1, 1, 1],\n",
    "              [1, 1, 2, 1, 3, 0, 5, 10, 1, 2],\n",
    "              [500, 700, 750, 600, 1450,\n",
    "               800, 1500, 2000, 450, 1000],\n",
    "              [1, 1, 2, 1, 2, 1, 3, 3, 1, 2]], dtype = np.float64)\n",
    "\n",
    "y = np.array([0, 0, 1, 0, 1, 0, 1, 0, 1, 1], dtype = np.float64)\n",
    "\n",
    "X, y"
   ]
  },
  {
   "cell_type": "code",
   "execution_count": 4,
   "metadata": {},
   "outputs": [
    {
     "data": {
      "text/plain": [
       "(array([0.2617132 , 0.17509907, 1.02794228, 0.21840613, 0.53795688,\n",
       "        0.31862798, 1.20396413, 0.05324898, 0.28336673, 0.91967463]),\n",
       " array([ 0.00000000e+00, -1.86835968e-01, -4.33070617e-04,  1.06133271e+00]))"
      ]
     },
     "execution_count": 4,
     "metadata": {},
     "output_type": "execute_result"
    }
   ],
   "source": [
    "from sklearn.linear_model import LinearRegression\n",
    "\n",
    "model = LinearRegression()\n",
    "model.fit(X.T, y)\n",
    "W_lr = model.predict(X.T)\n",
    "W_lr, model.coef_"
   ]
  },
  {
   "cell_type": "code",
   "execution_count": 5,
   "metadata": {},
   "outputs": [],
   "source": [
    "def calc_std_feat(x):\n",
    "    res = (x - x.mean()) / x.std()\n",
    "    return res"
   ]
  },
  {
   "cell_type": "code",
   "execution_count": 6,
   "metadata": {},
   "outputs": [
    {
     "data": {
      "text/plain": [
       "array([[ 1.        ,  1.        ,  1.        ,  1.        ,  1.        ,\n",
       "         1.        ,  1.        ,  1.        ,  1.        ,  1.        ],\n",
       "       [ 1.        ,  1.        ,  2.        ,  1.        ,  3.        ,\n",
       "         0.        ,  5.        , 10.        ,  1.        ,  2.        ],\n",
       "       [-0.97958969, -0.56713087, -0.46401617, -0.77336028,  0.97958969,\n",
       "        -0.36090146,  1.08270439,  2.11385144, -1.08270439,  0.05155735],\n",
       "       [ 1.        ,  1.        ,  2.        ,  1.        ,  2.        ,\n",
       "         1.        ,  3.        ,  3.        ,  1.        ,  2.        ]])"
      ]
     },
     "execution_count": 6,
     "metadata": {},
     "output_type": "execute_result"
    }
   ],
   "source": [
    "X_st = X.copy()\n",
    "X_st[2, :] = calc_std_feat(X[2, :])\n",
    "X_st"
   ]
  },
  {
   "cell_type": "code",
   "execution_count": 7,
   "metadata": {},
   "outputs": [],
   "source": [
    "def sigmoid(z):\n",
    "    res = 1 / (1 + np.exp(-z))\n",
    "    return res\n",
    "\n",
    "def eval_model(X, y, iterations, alpha=1e-4):\n",
    "    np.random.seed(42)\n",
    "    W = np.random.randn(X.shape[0])\n",
    "    n = X.shape[1]\n",
    "    for i in range(1, iterations+1):\n",
    "        z = np.dot(W, X)\n",
    "        y_pred = sigmoid(z)\n",
    "        err = calc_logloss(y, y_pred)\n",
    "        W -= alpha * (1/n * np.dot((y_pred - y), X.T))\n",
    "        if i % (iterations / 10) == 0:\n",
    "            print(i, W, err)\n",
    "        if err <= 1e-3:\n",
    "            print(i, W, err)\n",
    "            break\n",
    "    return W"
   ]
  },
  {
   "cell_type": "code",
   "execution_count": 8,
   "metadata": {},
   "outputs": [
    {
     "name": "stdout",
     "output_type": "stream",
     "text": [
      "200 [-0.5657761  -0.79736542  1.11268701  1.65387362] 0.5044774584075642\n",
      "400 [-1.11653944 -0.90037858  1.07997519  2.1370022 ] 0.4731504151986763\n",
      "600 [-1.61894132 -0.95054726  0.96496563  2.5113469 ] 0.44994883148850046\n",
      "800 [-2.08066402 -0.97592237  0.81958001  2.82440332] 0.4310563912808562\n",
      "1000 [-2.50643968 -0.98974881  0.6666699   3.09973522] 0.4151396733310559\n",
      "1200 [-2.90025069 -0.99848819  0.51676222  3.34972913] 0.4015240917125794\n",
      "1400 [-3.26564937 -1.00531191  0.37442305  3.58128619] 0.38976323748312114\n",
      "1600 [-3.60583907 -1.01173068  0.24125179  3.79847286] 0.3795206955260782\n",
      "1800 [-3.9236924  -1.01841158  0.11739615  4.00384212] 0.37053064769182964\n",
      "2000 [-4.22176172e+00 -1.02560072e+00  2.33734521e-03  4.19911588e+00] 0.3625798842559626\n"
     ]
    }
   ],
   "source": [
    "\n",
    "W = eval_model(X_st, y, iterations=2000, alpha=8.827595e-2)\n",
    "# если  alfa увеличивается ошибка уменьшается но при этом появляются ошибки \n",
    "# <ipython-input-51-116ebb789760>:4: RuntimeWarning: divide by zero encountered in log\n",
    "#   err = - np.mean(y * np.log(y_pred) + (1.0 - y) * np.log(1.0 - y_pred))\n",
    "# <ipython-input-51-116ebb789760>:4: RuntimeWarning: invalid value encountered in multiply\n",
    "#   err = - np.mean(y * np.log(y_pred) + (1.0 - y) * np.log(1.0 - y_pred))"
   ]
  },
  {
   "cell_type": "markdown",
   "metadata": {},
   "source": [
    "__3. Создайте функцию calc_pred_proba, возвращающую предсказанную вероятность класса 1 (на вход подаются W, который уже посчитан функцией eval_model и X, на выходе - массив y_pred_proba).__"
   ]
  },
  {
   "cell_type": "code",
   "execution_count": 9,
   "metadata": {},
   "outputs": [],
   "source": [
    "def calc_pred_proba(W, X):\n",
    "    y_pred_prob = sigmoid(np.dot(W, X))\n",
    "    return y_pred_prob"
   ]
  },
  {
   "cell_type": "code",
   "execution_count": 10,
   "metadata": {},
   "outputs": [
    {
     "data": {
      "text/plain": [
       "(array([0.53007018, 0.64288204, 0.97973283, 0.58762614, 0.98889089,\n",
       "        0.86380158, 0.99883469, 0.94236535, 0.5008897 , 0.98859929]),\n",
       " array([0.6588023 , 0.639074  , 0.80599452, 0.64900179, 0.71792763,\n",
       "        0.67147773, 0.83204806, 0.61051969, 0.66365276, 0.78850258]))"
      ]
     },
     "execution_count": 10,
     "metadata": {},
     "output_type": "execute_result"
    }
   ],
   "source": [
    "# Функция eval_model не работает! при подборе альфа и вызове calc_pred_proba полчаем либо массив \n",
    "# с вероятностью все 0, при alpha >= 1e-1, \n",
    "# либо все 1, при alpha < 1e-2,    \n",
    "y_pred_prob = calc_pred_proba(W, X)\n",
    "y_model_pred = calc_pred_proba(model.coef_, X)\n",
    "y_pred_prob, y_model_pred "
   ]
  },
  {
   "cell_type": "markdown",
   "metadata": {},
   "source": [
    "__4. Создайте функцию calc_pred, возвращающую предсказанный класс (на вход подаются W, который уже посчитан функцией eval_model и X, на выходе - массив y_pred).__"
   ]
  },
  {
   "cell_type": "code",
   "execution_count": 11,
   "metadata": {},
   "outputs": [],
   "source": [
    "def calc_pred_bin(W, X):\n",
    "    y_pred_prob = sigmoid(np.dot(W, X))\n",
    "    y_pred_prob = np.where(y_pred_prob < 0.75, 0, 1 )\n",
    "    return y_pred_prob"
   ]
  },
  {
   "cell_type": "code",
   "execution_count": 12,
   "metadata": {},
   "outputs": [
    {
     "data": {
      "text/plain": [
       "(array([0, 0, 1, 0, 1, 1, 1, 1, 0, 1]),\n",
       " array([0, 0, 1, 0, 0, 0, 1, 0, 0, 1]),\n",
       " array([0., 0., 1., 0., 1., 0., 1., 0., 1., 1.]))"
      ]
     },
     "execution_count": 12,
     "metadata": {},
     "output_type": "execute_result"
    }
   ],
   "source": [
    "y_pred_bin = calc_pred_bin(W, X)\n",
    "y_model_bin = calc_pred_bin(model.coef_, X)\n",
    "y_pred_bin, y_model_bin, y\n",
    "\n",
    "#y_pred_bin = y_model_bin"
   ]
  },
  {
   "cell_type": "markdown",
   "metadata": {},
   "source": [
    "__5. Посчитайте Accuracy, матрицу ошибок, точность и полноту, а также F1 score.__"
   ]
  },
  {
   "cell_type": "code",
   "execution_count": 13,
   "metadata": {},
   "outputs": [],
   "source": [
    "from matplotlib import pyplot as plt\n",
    "from sklearn.metrics import roc_curve\n",
    "from sklearn.metrics import roc_auc_score"
   ]
  },
  {
   "cell_type": "code",
   "execution_count": 14,
   "metadata": {},
   "outputs": [
    {
     "data": {
      "text/plain": [
       "(0.0, 1.0)"
      ]
     },
     "execution_count": 14,
     "metadata": {},
     "output_type": "execute_result"
    },
    {
     "data": {
      "image/png": "[encoded data removed]",
      "text/plain": [
       "<Figure size 432x288 with 1 Axes>"
      ]
     },
     "metadata": {
      "needs_background": "light"
     },
     "output_type": "display_data"
    }
   ],
   "source": [
    "fpr, tpr, _ = roc_curve(y, y_pred_bin)\n",
    "plt.plot([0, 1], [0, 1], label=\"Random\", linestyle=\"--\", alpha=0.25)\n",
    "plt.plot(fpr, tpr, color=\"green\")\n",
    "plt.scatter(fpr, tpr, color=\"green\")\n",
    "plt.xlim(0,1)\n",
    "plt.ylim(0,1)"
   ]
  },
  {
   "cell_type": "code",
   "execution_count": 15,
   "metadata": {},
   "outputs": [
    {
     "data": {
      "text/plain": [
       "0.7000000000000001"
      ]
     },
     "execution_count": 15,
     "metadata": {},
     "output_type": "execute_result"
    }
   ],
   "source": [
    "roc_auc_score(y, y_pred_bin)"
   ]
  },
  {
   "cell_type": "code",
   "execution_count": 16,
   "metadata": {},
   "outputs": [
    {
     "data": {
      "text/plain": [
       "0.7"
      ]
     },
     "execution_count": 16,
     "metadata": {},
     "output_type": "execute_result"
    }
   ],
   "source": [
    "accuracy = 1.0 - np.mean(np.abs(y_pred_bin - y))\n",
    "accuracy"
   ]
  },
  {
   "cell_type": "code",
   "execution_count": 19,
   "metadata": {},
   "outputs": [
    {
     "name": "stdout",
     "output_type": "stream",
     "text": [
      "conf_matrix: \n",
      "[[4 2]\n",
      " [1 3]],\n",
      "accuracy: 0.7,\tprecision: 0.6669999957084656,\trecall: 0.800000011920929,\tF1_score: 0.727\n"
     ]
    }
   ],
   "source": [
    "tr = np.where(y < 0.5, 0, 1 )\n",
    "pred = np.where(y_pred_bin < 0.5, 0, 1 )\n",
    "\n",
    "conf_matrix = np.zeros((2,2), dtype=np.uint8)\n",
    "conf_matrix[0][0] = np.sum(list(map(all, zip(tr, pred))))    # TP \n",
    "conf_matrix[0][1] = np.sum(list(map(lambda x: ~x[0]&x[1], zip(tr, pred))))    # FP real 0 predict 1\n",
    "conf_matrix[1][0] = np.sum(list(map(lambda x: x[0]&~x[1] , zip(tr, pred))))    # FN real 1 predict 0\n",
    "conf_matrix[1][1] = np.sum(list(map(lambda x: 0x01&(~x[0]&~x[1]) , zip(tr, pred))))    # TN\n",
    "\n",
    "accur = (conf_matrix[0][0] + conf_matrix[1][1])/len(y)\n",
    "prec = conf_matrix[0][0] / (conf_matrix[0][0] + conf_matrix[0][1])\n",
    "rec = conf_matrix[0][0] / (conf_matrix[0][0] + conf_matrix[1][0]) \n",
    "f1 = (2 * prec * rec)/(prec + rec)\n",
    "\n",
    "\n",
    "print( f'conf_matrix: \\n{conf_matrix},\\naccuracy: {round(accur,3)},\\\n",
    "\\tprecision: {round(prec,3)},\\trecall: {round(rec,3)},\\tF1_score: {round(f1,3)}')"
   ]
  },
  {
   "cell_type": "markdown",
   "metadata": {},
   "source": [
    "__6. Могла ли модель переобучиться? Почему?__"
   ]
  },
  {
   "cell_type": "markdown",
   "metadata": {},
   "source": [
    "Модель по сравнению с библиотечной имеет худшие показатели, следовательно не обучена. при переобучении мы получаем 100% ответов. Достаточно сложно говорить о качестве обучения модели, потому что при небольшом изменении альфа получаем в выходном векторе либо все 0 либо все 1...  "
   ]
  },
  {
   "cell_type": "markdown",
   "metadata": {},
   "source": [
    "__7*. Создайте функции eval_model_l1 и eval_model_l2 с применением L1 и L2 регуляризаций соответственно.__"
   ]
  },
  {
   "cell_type": "code",
   "execution_count": 24,
   "metadata": {},
   "outputs": [],
   "source": [
    "def eval_model_l1(X, y, iterations, alpha=1e-4, lambda_=1e-4):\n",
    "    np.random.seed(42)\n",
    "    W = np.random.randn(X.shape[0])\n",
    "    n = X.shape[1]\n",
    "    for i in range(1, iterations+1):\n",
    "        z = np.dot(W, X)\n",
    "        y_pred = sigmoid(z)\n",
    "        err = calc_logloss(y, y_pred)\n",
    "        W -= alpha * (1/n * 2 * np.dot((y_pred - y), X.T) + lambda_/2 * np.sign(W))\n",
    "        if i % (iterations / 10) == 0:\n",
    "            print(i, W, err)\n",
    "    return W\n",
    "\n",
    "def eval_model_l2(X, y, iterations, alpha=1e-4, lambda_=1e-4):\n",
    "    np.random.seed(42)\n",
    "    W = np.random.randn(X.shape[0])\n",
    "    n = X.shape[1]\n",
    "    for i in range(1, iterations+1):\n",
    "        z = np.dot(W, X)\n",
    "        y_pred = sigmoid(z)\n",
    "        err = calc_logloss(y, y_pred)\n",
    "        W -= alpha * (1/n * np.dot((y_pred - y), X.T) + lambda_ * W)\n",
    "        if i % (iterations / 10) == 0:\n",
    "            print(i, W, err)\n",
    "    return W"
   ]
  },
  {
   "cell_type": "code",
   "execution_count": 25,
   "metadata": {},
   "outputs": [
    {
     "name": "stdout",
     "output_type": "stream",
     "text": [
      "200 [-1.11641294 -0.90046461  1.08015573  2.13708777] 0.47328369250899505\n",
      "400 [-2.08015898 -0.97569949  0.81935093  2.82376672] 0.4311641173460858\n",
      "600 [-2.8993509  -0.99811207  0.51642781  3.3486003 ] 0.4016192445060276\n",
      "800 [-3.60452728 -1.01128126  0.24097052  3.79696305] 0.3796091461089596\n",
      "1000 [-4.22002593e+00 -1.02510858e+00  2.17291857e-03  4.19726104e+00] 0.36266495948063604\n",
      "1200 [-4.76469189 -1.04130657 -0.20383471  4.56199761] 0.34923398169516057\n",
      "1400 [-5.25376913 -1.05906973 -0.3847597   4.89804821] 0.33828372110979443\n",
      "1600 [-5.69852969 -1.07787637 -0.54579283  5.21057423] 0.3291363652981873\n",
      "1800 [-6.10749176 -1.09728704 -0.69109117  5.50348697] 0.32133171453231835\n",
      "2000 [-6.48717373 -1.11699042 -0.82380621  5.77985792] 0.3145500866209089\n"
     ]
    },
    {
     "data": {
      "text/plain": [
       "array([-6.48717373, -1.11699042, -0.82380621,  5.77985792])"
      ]
     },
     "execution_count": 25,
     "metadata": {},
     "output_type": "execute_result"
    }
   ],
   "source": [
    "\n",
    "W = eval_model_l1(X_st, y, iterations=2000, alpha=8.827595e-2)\n",
    "W"
   ]
  },
  {
   "cell_type": "code",
   "execution_count": 26,
   "metadata": {},
   "outputs": [
    {
     "name": "stdout",
     "output_type": "stream",
     "text": [
      "200 [-0.56524711 -0.79649452  1.11135146  1.65216214] 0.5045595558507354\n",
      "400 [-1.11453049 -0.89886387  1.0780671   2.13338198] 0.4732923385079594\n",
      "600 [-1.61465829 -0.94856534  0.96316042  2.50561579] 0.45016549990903715\n",
      "800 [-2.07342614 -0.97360646  0.81842379  2.81635161] 0.4313636541138943\n",
      "1000 [-2.49566721 -0.98718533  0.66658296  3.08912906] 0.4155475414223389\n",
      "1200 [-2.88544755 -0.99572263  0.51805546  3.33631184] 0.40203701150191556\n",
      "1400 [-3.24638593 -1.00235838  0.37732205  3.56478589] 0.3903818676040454\n",
      "1600 [-3.58173674 -1.00858147  0.24592077  3.77861075] 0.3802435655316688\n",
      "1800 [-3.89441094 -1.01504507  0.12395775  3.98033901] 0.3713553235310847\n",
      "2000 [-4.18698923 -1.02198717  0.01088737  4.17169647] 0.36350367775064246\n"
     ]
    },
    {
     "data": {
      "text/plain": [
       "array([-4.18698923, -1.02198717,  0.01088737,  4.17169647])"
      ]
     },
     "execution_count": 26,
     "metadata": {},
     "output_type": "execute_result"
    }
   ],
   "source": [
    "W = eval_model_l2(X_st, y, iterations=2000, alpha=8.827595e-2)\n",
    "W"
   ]
  },
  {
   "cell_type": "code",
   "execution_count": null,
   "metadata": {},
   "outputs": [],
   "source": []
  }
 ],
 "metadata": {
  "kernelspec": {
   "display_name": "Python 3",
   "language": "python",
   "name": "python3"
  },
  "language_info": {
   "codemirror_mode": {
    "name": "ipython",
    "version": 3
   },
   "file_extension": ".py",
   "mimetype": "text/x-python",
   "name": "python",
   "nbconvert_exporter": "python",
   "pygments_lexer": "ipython3",
   "version": "3.8.3"
  }
 },
 "nbformat": 4,
 "nbformat_minor": 4
}
