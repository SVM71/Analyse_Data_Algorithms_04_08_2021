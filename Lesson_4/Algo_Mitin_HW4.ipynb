{
 "cells": [
  {
   "cell_type": "markdown",
   "id": "4a66e096",
   "metadata": {},
   "source": [
    "http://mlwiki.org/index.php/Cost-Complexity_Pruning<br>\n",
    "Полезно и коротко описаны алгоритмы и все для ML!"
   ]
  },
  {
   "cell_type": "code",
   "execution_count": 59,
   "id": "f179794c",
   "metadata": {},
   "outputs": [],
   "source": [
    "import numpy as np"
   ]
  },
  {
   "cell_type": "code",
   "execution_count": 60,
   "id": "954e9270",
   "metadata": {},
   "outputs": [
    {
     "data": {
      "text/plain": [
       "(array([1]), -0.0)"
      ]
     },
     "execution_count": 60,
     "metadata": {},
     "output_type": "execute_result"
    }
   ],
   "source": [
    "#a = np.array( [0.1, 0.05, 0.3, 0.15, 0.4] ) \n",
    "#a = np.array( [0.3, 0.2, 0.5] )  \n",
    "#a = np.array( [0.5, 0.5] )\n",
    "a = np.array( [1] )\n",
    "\n",
    "# формула для энтропии Шеннона https://habr.com/ru/post/305794/\n",
    "H = -1*np.sum( list(map(lambda x: x*np.log2(x), a)) )\n",
    "a, H\n",
    "# (array([0.1 , 0.05, 0.3 , 0.15, 0.4 ]), 2.0086949695628418)\n",
    "# (array([0.3, 0.2, 0.5]), 1.4854752972273344)\n",
    "# (array([0.5, 0.5]), 1.0)\n",
    "# (array([1]), -0.0)"
   ]
  },
  {
   "cell_type": "markdown",
   "id": "c5bf8486",
   "metadata": {},
   "source": [
    "__https://habr.com/ru/post/305794/__<br>\n",
    "$H = -\\sum_{i} {P_{i}*log_2P_i}$<br>\n",
    "энтропия напрямую связана с «неожиданностью» возникновения события. А отсюда вытекает и его информативность — чем событие более предсказуемо, тем оно менее информативно.<br>\n",
    "\n",
    "https://ru.wikipedia.org/wiki/%D0%98%D0%BD%D1%84%D0%BE%D1%80%D0%BC%D0%B0%D1%86%D0%B8%D0%BE%D0%BD%D0%BD%D0%B0%D1%8F_%D1%8D%D0%BD%D1%82%D1%80%D0%BE%D0%BF%D0%B8%D1%8F\n",
    "<br>__Информацио́нная энтропи́я__ — мера неопределённости некоторой системы (в статистической физике или теории информации), в частности непредсказуемость появления какого-либо символа первичного алфавита. В последнем случае при отсутствии информационных потерь энтропия численно равна<br>\n",
    "количеству информации на символ передаваемого сообщения. \n"
   ]
  },
  {
   "cell_type": "code",
   "execution_count": 61,
   "id": "d96fb0ab",
   "metadata": {},
   "outputs": [],
   "source": [
    "import matplotlib.pyplot as plt\n",
    "import random\n",
    "\n",
    "from matplotlib.colors import ListedColormap\n",
    "from sklearn import datasets\n",
    "\n",
    "import numpy as np"
   ]
  },
  {
   "cell_type": "code",
   "execution_count": 62,
   "id": "0316112c",
   "metadata": {},
   "outputs": [],
   "source": [
    "# Реализуем класс узла\n",
    "\n",
    "class Node:\n",
    "    \n",
    "    def __init__(self, index, t, true_branch, false_branch):\n",
    "        self.index = index  # индекс признака, по которому ведется сравнение с порогом в этом узле\n",
    "        self.t = t  # значение порога\n",
    "        self.true_branch = true_branch  # поддерево, удовлетворяющее условию в узле\n",
    "        self.false_branch = false_branch  # поддерево, не удовлетворяющее условию в узле\n",
    "        \n",
    "# И класс терминального узла (листа)\n",
    "class Leaf:\n",
    "    \n",
    "    def __init__(self, data, labels):\n",
    "        self.data = data\n",
    "        self.labels = labels\n",
    "        self.prediction = self.predict()\n",
    "        \n",
    "    def predict(self):\n",
    "        # подсчет количества объектов разных классов\n",
    "        classes = {}  # сформируем словарь \"класс: количество объектов\"\n",
    "        for label in self.labels:\n",
    "            if label not in classes:\n",
    "                classes[label] = 0\n",
    "            classes[label] += 1\n",
    "        #  найдем класс, количество объектов которого будет максимальным в этом листе и вернем его    \n",
    "        prediction = max(classes, key=classes.get)\n",
    "        return prediction                \n",
    "        "
   ]
  },
  {
   "cell_type": "code",
   "execution_count": 90,
   "id": "d10c2287",
   "metadata": {},
   "outputs": [],
   "source": [
    "# Расчет критерия Джини\n",
    "def gini(labels):\n",
    "    #  подсчет количества объектов разных классов\n",
    "    classes = {}\n",
    "    for label in labels:\n",
    "        if label not in classes:\n",
    "            classes[label] = 0\n",
    "        classes[label] += 1\n",
    "    \n",
    "    #  расчет критерия\n",
    "    impurity = 1\n",
    "    for label in classes:\n",
    "        p = classes[label] / len(labels)\n",
    "        impurity -= p ** 2\n",
    "        \n",
    "    return impurity\n",
    "\n",
    "# Расчет качества\n",
    "def quality(left_labels, right_labels, current_gini):\n",
    "    # доля выбоки, ушедшая в левое поддерево\n",
    "    p = float(left_labels.shape[0]) / (left_labels.shape[0] + right_labels.shape[0])    \n",
    "    return current_gini - p * gini(left_labels) - (1 - p) * gini(right_labels)\n",
    "\n",
    "# Разбиение датасета в узле\n",
    "def split(data, labels, index, t):  \n",
    "    left = np.where(data[:, index] <= t)\n",
    "    right = np.where(data[:, index] > t)        \n",
    "    true_data = data[left]\n",
    "    false_data = data[right]\n",
    "    true_labels = labels[left]\n",
    "    false_labels = labels[right]       \n",
    "    return true_data, false_data, true_labels, false_labels\n",
    "\n",
    "# Нахождение наилучшего разбиения\n",
    "def find_best_split(data, labels):  \n",
    "    #  обозначим минимальное количество объектов в узле\n",
    "    min_leaf = 5\n",
    "    \n",
    "    current_gini = gini(labels)\n",
    "\n",
    "    best_quality = 0\n",
    "    best_t = None\n",
    "    best_index = None\n",
    "    \n",
    "    n_features = data.shape[1]\n",
    "    \n",
    "    for index in range(n_features):\n",
    "        # будем проверять только уникальные значения признака, исключая повторения\n",
    "        t_values = np.unique([row[index] for row in data])\n",
    "        \n",
    "        for t in t_values:\n",
    "            true_data, false_data, true_labels, false_labels = split(data, labels, index, t)\n",
    "            #  пропускаем разбиения, в которых в узле остается менее 5 объектов\n",
    "            if len(true_data) < min_leaf or len(false_data) < min_leaf:\n",
    "                continue\n",
    "            \n",
    "            current_quality = quality(true_labels, false_labels, current_gini)\n",
    "            \n",
    "            #  выбираем порог, на котором получается максимальный прирост качества\n",
    "            if current_quality > best_quality:\n",
    "                best_quality, best_t, best_index = current_quality, t, index\n",
    "\n",
    "    return best_quality, best_t, best_index\n",
    "\n",
    "\n",
    "def build_tree(data, labels):\n",
    "    quality, t, index = find_best_split(data, labels)\n",
    "    #  Базовый случай - прекращаем рекурсию, когда нет прироста в качества\n",
    "    if quality == 0:\n",
    "        return Leaf(data, labels)\n",
    "    true_data, false_data, true_labels, false_labels = split(data, labels, index, t)\n",
    "    # Рекурсивно строим два поддерева\n",
    "    true_branch = build_tree(true_data, true_labels)\n",
    "    false_branch = build_tree(false_data, false_labels)\n",
    "    # Возвращаем класс узла со всеми поддеревьями, то есть целого дерева\n",
    "    return Node(index, t, true_branch, false_branch)\n",
    "\n",
    "\n",
    "def classify_object(obj, node):\n",
    "    #  Останавливаем рекурсию, если достигли листа\n",
    "    if isinstance(node, Leaf):\n",
    "        answer = node.prediction\n",
    "        return answer\n",
    "    if obj[node.index] <= node.t:\n",
    "        return classify_object(obj, node.true_branch)\n",
    "    else:\n",
    "        return classify_object(obj, node.false_branch)\n",
    "    \n",
    "    \n",
    "def predict(data, tree):\n",
    "    classes = []\n",
    "    for obj in data:\n",
    "        prediction = classify_object(obj, tree)\n",
    "        classes.append(prediction)\n",
    "    return classes        \n",
    "\n",
    "# Напечатаем ход нашего дерева\n",
    "def print_tree(node, spacing=\"\"):\n",
    "\n",
    "    # Если лист, то выводим его прогноз\n",
    "    if isinstance(node, Leaf):\n",
    "        print(spacing + \"Прогноз:\", node.prediction)\n",
    "        return\n",
    "\n",
    "    # Выведем значение индекса и порога на этом узле\n",
    "    print(spacing + 'Индекс', str(node.index))\n",
    "    print(spacing + 'Порог', str(node.t))\n",
    "\n",
    "    # Рекурсионный вызов функции на положительном поддереве\n",
    "    print (spacing + '--> True:')\n",
    "    print_tree(node.true_branch, spacing + \"  \")\n",
    "\n",
    "    # Рекурсионный вызов функции на положительном поддереве\n",
    "    print (spacing + '--> False:')\n",
    "    print_tree(node.false_branch, spacing + \"  \")"
   ]
  },
  {
   "cell_type": "code",
   "execution_count": 91,
   "id": "72ae7885",
   "metadata": {},
   "outputs": [],
   "source": [
    "#########################################################################\n",
    "# сгенерируем данные\n",
    "classification_data, classification_labels = datasets.make_classification(\n",
    "    n_samples=50,\n",
    "    n_features=2,\n",
    "    n_informative=2, \n",
    "    n_classes=2,\n",
    "    n_redundant=0,\n",
    "    n_clusters_per_class=1,\n",
    "    flip_y=0.75,\n",
    "    random_state=100\n",
    ")"
   ]
  },
  {
   "cell_type": "code",
   "execution_count": 92,
   "id": "f31fa52a",
   "metadata": {},
   "outputs": [
    {
     "data": {
      "text/plain": [
       "<matplotlib.collections.PathCollection at 0x7fd15a121e80>"
      ]
     },
     "execution_count": 92,
     "metadata": {},
     "output_type": "execute_result"
    },
    {
     "data": {
      "image/png": "[encoded data removed]",
      "text/plain": [
       "<Figure size 576x576 with 1 Axes>"
      ]
     },
     "metadata": {
      "needs_background": "light"
     },
     "output_type": "display_data"
    }
   ],
   "source": [
    "# визуализируем сгенерированные данные\n",
    "\n",
    "colors = ListedColormap(['red', 'blue'])\n",
    "light_colors = ListedColormap(['lightcoral', 'lightblue'])\n",
    "\n",
    "plt.figure(figsize=(8,8))\n",
    "plt.scatter(list(map(lambda x: x[0], classification_data)), list(map(lambda x: x[1], classification_data)), \n",
    "              c=classification_labels, cmap=colors)"
   ]
  },
  {
   "cell_type": "code",
   "execution_count": 93,
   "id": "732ce7c8",
   "metadata": {},
   "outputs": [],
   "source": [
    "# Разобьем выборку на обучающую и тестовую\n",
    "\n",
    "from sklearn import model_selection\n",
    "\n",
    "train_data, test_data, train_labels, test_labels = model_selection.train_test_split(\n",
    "    classification_data, classification_labels, test_size = 0.3, random_state = 1\n",
    ")"
   ]
  },
  {
   "cell_type": "code",
   "execution_count": 94,
   "id": "ecbb7613",
   "metadata": {},
   "outputs": [],
   "source": [
    "# Построим дерево по обучающей выборке\n",
    "my_tree = build_tree(train_data, train_labels)"
   ]
  },
  {
   "cell_type": "code",
   "execution_count": 95,
   "id": "a1fabebe",
   "metadata": {},
   "outputs": [
    {
     "name": "stdout",
     "output_type": "stream",
     "text": [
      "Индекс 0\n",
      "Порог 0.6990708283915846\n",
      "--> True:\n",
      "  Индекс 0\n",
      "  Порог -0.9125152444311508\n",
      "  --> True:\n",
      "    Индекс 0\n",
      "    Порог -1.3449423536879115\n",
      "    --> True:\n",
      "      Прогноз: 1\n",
      "    --> False:\n",
      "      Прогноз: 0\n",
      "  --> False:\n",
      "    Прогноз: 1\n",
      "--> False:\n",
      "  Индекс 0\n",
      "  Порог 0.8684661215869487\n",
      "  --> True:\n",
      "    Прогноз: 0\n",
      "  --> False:\n",
      "    Прогноз: 1\n"
     ]
    }
   ],
   "source": [
    "print_tree(my_tree)"
   ]
  },
  {
   "cell_type": "code",
   "execution_count": 96,
   "id": "69d2ac10",
   "metadata": {},
   "outputs": [],
   "source": [
    "# Получим ответы для обучающей выборки \n",
    "train_answers = predict(train_data, my_tree)\n",
    "# И получим ответы для тестовой выборки\n",
    "answers = predict(test_data, my_tree)"
   ]
  },
  {
   "cell_type": "code",
   "execution_count": 97,
   "id": "0bd28972",
   "metadata": {},
   "outputs": [],
   "source": [
    "# Введем функцию подсчета точности как доли правильных ответов\n",
    "def accuracy_metric(actual, predicted):\n",
    "    correct = 0\n",
    "    for i in range(len(actual)):\n",
    "        if actual[i] == predicted[i]:\n",
    "            correct += 1\n",
    "    return correct / float(len(actual)) * 100.0"
   ]
  },
  {
   "cell_type": "code",
   "execution_count": 98,
   "id": "8b2041ea",
   "metadata": {},
   "outputs": [
    {
     "data": {
      "text/plain": [
       "(80.0, 40.0)"
      ]
     },
     "execution_count": 98,
     "metadata": {},
     "output_type": "execute_result"
    }
   ],
   "source": [
    "# Точность на обучающей выборке\n",
    "train_accuracy = accuracy_metric(train_labels, train_answers)\n",
    "# Точность на тестовой выборке\n",
    "test_accuracy = accuracy_metric(test_labels, answers)\n",
    "\n",
    "train_accuracy, test_accuracy"
   ]
  },
  {
   "cell_type": "code",
   "execution_count": 99,
   "id": "2f0b1705",
   "metadata": {},
   "outputs": [
    {
     "data": {
      "text/plain": [
       "Text(0.5, 1.0, 'Test accuracy=40.00')"
      ]
     },
     "execution_count": 99,
     "metadata": {},
     "output_type": "execute_result"
    },
    {
     "data": {
      "image/png": "[encoded data removed]",
      "text/plain": [
       "<Figure size 1152x504 with 2 Axes>"
      ]
     },
     "metadata": {
      "needs_background": "light"
     },
     "output_type": "display_data"
    }
   ],
   "source": [
    "# Визуализируем дерево на графике\n",
    "\n",
    "def get_meshgrid(data, step=.05, border=1.2):\n",
    "    x_min, x_max = data[:, 0].min() - border, data[:, 0].max() + border\n",
    "    y_min, y_max = data[:, 1].min() - border, data[:, 1].max() + border\n",
    "    return np.meshgrid(np.arange(x_min, x_max, step), np.arange(y_min, y_max, step))\n",
    "\n",
    "plt.figure(figsize = (16, 7))\n",
    "\n",
    "# график обучающей выборки\n",
    "plt.subplot(1,2,1)\n",
    "xx, yy = get_meshgrid(train_data)\n",
    "mesh_predictions = np.array(predict(np.c_[xx.ravel(), yy.ravel()], my_tree)).reshape(xx.shape)\n",
    "plt.pcolormesh(xx, yy, mesh_predictions, shading='auto', cmap = light_colors)\n",
    "plt.scatter(train_data[:, 0], train_data[:, 1], c = train_labels, cmap = colors)\n",
    "plt.title(f'Train accuracy={train_accuracy:.2f}')\n",
    "\n",
    "# график тестовой выборки\n",
    "plt.subplot(1,2,2)\n",
    "plt.pcolormesh(xx, yy, mesh_predictions, shading='auto', cmap = light_colors)\n",
    "plt.scatter(test_data[:, 0], test_data[:, 1], c = test_labels, cmap = colors)\n",
    "plt.title(f'Test accuracy={test_accuracy:.2f}')"
   ]
  },
  {
   "cell_type": "code",
   "execution_count": 100,
   "id": "b6ede8ce",
   "metadata": {},
   "outputs": [
    {
     "data": {
      "text/plain": [
       "0.4666666666666667"
      ]
     },
     "execution_count": 100,
     "metadata": {},
     "output_type": "execute_result"
    }
   ],
   "source": [
    "np.mean(test_labels)"
   ]
  },
  {
   "cell_type": "markdown",
   "id": "8f0f9192",
   "metadata": {},
   "source": [
    "__1. В коде из методички реализуйте один или несколько из критериев останова (количество листьев, количество используемых признаков, глубина дерева и т.д.).__"
   ]
  },
  {
   "cell_type": "code",
   "execution_count": 101,
   "id": "92384094",
   "metadata": {},
   "outputs": [],
   "source": [
    "# Нахождение наилучшего разбиения\n",
    "def find_best_split_v2(data, labels, features_list, min_leaf = 5 ):  \n",
    "    #  обозначим минимальное количество объектов в узле\n",
    "    #min_leaf = 5\n",
    "    \n",
    "    current_gini = gini(labels)\n",
    "\n",
    "    best_quality = 0\n",
    "    best_t = None\n",
    "    best_index = None\n",
    "    \n",
    "    for index in features_list:\n",
    "        # будем проверять только уникальные значения признака, исключая повторения\n",
    "        t_values = np.unique([row[index] for row in data])\n",
    "        \n",
    "        for t in t_values:\n",
    "            true_data, false_data, true_labels, false_labels = split(data, labels, index, t)\n",
    "            #  пропускаем разбиения, в которых в узле остается менее 5 объектов\n",
    "            if len(true_data) < min_leaf or len(false_data) < min_leaf:\n",
    "                continue\n",
    "            \n",
    "            current_quality = quality(true_labels, false_labels, current_gini)\n",
    "            \n",
    "            #  выбираем порог, на котором получается максимальный прирост качества\n",
    "            if current_quality > best_quality:\n",
    "                best_quality, best_t, best_index = current_quality, t, index\n",
    "\n",
    "    return best_quality, best_t, best_index\n",
    "\n",
    "\n",
    "def build_tree_v2(data, labels, features_list, depth = 0, max_depth = 10, min_leaf = 5 ):\n",
    "    quality, t, index = find_best_split_v2(data, labels, features_list, min_leaf)\n",
    "    #  Базовый случай - прекращаем рекурсию, когда нет прироста в качества\n",
    "    if quality == 0:\n",
    "        return Leaf(data, labels)\n",
    "    if depth >= max_depth:\n",
    "        return Leaf(data, labels)\n",
    "    \n",
    "    true_data, false_data, true_labels, false_labels = split(data, labels, index, t)\n",
    "    depth += 1\n",
    "    \n",
    "    # Рекурсивно строим два поддерева\n",
    "    true_branch = build_tree(true_data, true_labels, depth)\n",
    "    false_branch = build_tree(false_data, false_labels, depth)\n",
    "    # Возвращаем класс узла со всеми поддеревьями, то есть целого дерева\n",
    "    return Node(index, t, true_branch, false_branch)\n",
    "\n"
   ]
  },
  {
   "cell_type": "markdown",
   "id": "9cb95a9b",
   "metadata": {},
   "source": [
    "__2. Для задачи классификации обучить дерево решений с использованием критериев разбиения Джини и Энтропия. Сравнить качество классификации, сделать выводы.__"
   ]
  },
  {
   "cell_type": "markdown",
   "id": "5d0a43a5",
   "metadata": {},
   "source": [
    "Обозначим через $p_{k}$ долю объектов класса $k$ в выборке $X$:<br>\n",
    "$p_{k} = \\frac{1}{|X|}\\sum_{i\\in X}[y_{i} = k].$<br>\n",
    "$p_{k}$ будет характеризовать вероятность выдачи класса $k$.<br>\n",
    "Еще один критерий информативности - _энтропийный критерий_. Он также называется _энтропией Шеннона_ и записывается как<br>\n",
    "$H(X) = - \\sum^{K}_{k=1}p_{k}\\text{log}_{2}p_{k}.$<br>\n",
    "Минимум энтропии также достигается когда все объекты относятся к одному класссу, а максимум - при равномерном распределении. Стоит отметить, что в формуле полагается, что $0\\text{log}_{2}0=0.$"
   ]
  },
  {
   "cell_type": "code",
   "execution_count": 102,
   "id": "0ad3da30",
   "metadata": {},
   "outputs": [],
   "source": [
    "def user_entropy(labels):\n",
    "    #  подсчет количества объектов разных классов\n",
    "    classes = {}\n",
    "    for label in labels:\n",
    "        if label not in classes:\n",
    "            classes[label] = 0\n",
    "        classes[label] += 1\n",
    "    print(f'classes: {classes}')\n",
    "    #  расчет критерия\n",
    "    impurity = 0\n",
    "    for label in classes:\n",
    "        p = classes[label] / len(labels)        \n",
    "        impurity -= p*np.log2(p)\n",
    "        print(f'p[{label}]: {p}, impur: {impurity}')\n",
    "\n",
    "    return impurity\n",
    "\n",
    "# Нахождение наилучшего разбиения\n",
    "def find_best_split_entropy(data, labels):  \n",
    "    #  обозначим минимальное количество объектов в узле\n",
    "    min_leaf = 5\n",
    "    \n",
    "    current_gini = user_entropy(labels)\n",
    "\n",
    "    best_quality = 0\n",
    "    best_t = None\n",
    "    best_index = None\n",
    "    \n",
    "    n_features = data.shape[1]\n",
    "    \n",
    "    for index in range(n_features):\n",
    "        # будем проверять только уникальные значения признака, исключая повторения\n",
    "        t_values = np.unique([row[index] for row in data])\n",
    "        \n",
    "        for t in t_values:\n",
    "            true_data, false_data, true_labels, false_labels = split(data, labels, index, t)\n",
    "            #  пропускаем разбиения, в которых в узле остается менее 5 объектов\n",
    "            if len(true_data) < min_leaf or len(false_data) < min_leaf:\n",
    "                continue\n",
    "            \n",
    "            current_quality = quality(true_labels, false_labels, current_gini)\n",
    "            \n",
    "            #  выбираем порог, на котором получается максимальный прирост качества\n",
    "            if current_quality > best_quality:\n",
    "                best_quality, best_t, best_index = current_quality, t, index\n",
    "\n",
    "    return best_quality, best_t, best_index\n",
    "\n",
    "def build_tree_entropy(data, labels):\n",
    "    quality, t, index = find_best_split_entropy(data, labels)\n",
    "    #  Базовый случай - прекращаем рекурсию, когда нет прироста в качества\n",
    "    if quality == 0:\n",
    "        return Leaf(data, labels)\n",
    "    true_data, false_data, true_labels, false_labels = split(data, labels, index, t)\n",
    "    # Рекурсивно строим два поддерева\n",
    "    true_branch = build_tree(true_data, true_labels)\n",
    "    false_branch = build_tree(false_data, false_labels)\n",
    "    # Возвращаем класс узла со всеми поддеревьями, то есть целого дерева\n",
    "    return Node(index, t, true_branch, false_branch)"
   ]
  },
  {
   "cell_type": "code",
   "execution_count": 103,
   "id": "10b2c16f",
   "metadata": {},
   "outputs": [],
   "source": [
    "#########################################################################\n",
    "# сгенерируем данные\n",
    "classification_data, classification_labels = datasets.make_classification(\n",
    "    n_samples=100,\n",
    "    n_features=3,\n",
    "    n_informative=2, \n",
    "    n_classes=2,\n",
    "    n_redundant=0,\n",
    "    n_clusters_per_class=1,\n",
    "    flip_y=0.25,\n",
    "    random_state=100\n",
    ")"
   ]
  },
  {
   "cell_type": "code",
   "execution_count": 104,
   "id": "bc01f9e3",
   "metadata": {},
   "outputs": [
    {
     "data": {
      "text/plain": [
       "<matplotlib.collections.PathCollection at 0x7fd159cfb610>"
      ]
     },
     "execution_count": 104,
     "metadata": {},
     "output_type": "execute_result"
    },
    {
     "data": {
      "image/png": "[encoded data removed]",
      "text/plain": [
       "<Figure size 576x576 with 1 Axes>"
      ]
     },
     "metadata": {
      "needs_background": "light"
     },
     "output_type": "display_data"
    }
   ],
   "source": [
    "# визуализируем сгенерированные данные\n",
    "\n",
    "colors = ListedColormap(['red', 'blue'])\n",
    "light_colors = ListedColormap(['lightcoral', 'lightblue'])\n",
    "\n",
    "plt.figure(figsize=(8,8))\n",
    "plt.scatter(list(map(lambda x: x[0], classification_data)), list(map(lambda x: x[1], classification_data)), \n",
    "              c=classification_labels, cmap=colors)"
   ]
  },
  {
   "cell_type": "code",
   "execution_count": 105,
   "id": "ce7ec23b",
   "metadata": {},
   "outputs": [],
   "source": [
    "# Разобьем выборку на обучающую и тестовую\n",
    "\n",
    "from sklearn import model_selection\n",
    "\n",
    "train_data, test_data, train_labels, test_labels = model_selection.train_test_split(\n",
    "    classification_data, classification_labels, test_size = 0.3, random_state = 1\n",
    ")"
   ]
  },
  {
   "cell_type": "code",
   "execution_count": 106,
   "id": "46ebd834",
   "metadata": {},
   "outputs": [
    {
     "name": "stdout",
     "output_type": "stream",
     "text": [
      "classes: {0: 37, 1: 33}\n",
      "p[0]: 0.5285714285714286, impur: 0.486195672838466\n",
      "p[1]: 0.4714285714285714, impur: 0.9976432959863936\n"
     ]
    }
   ],
   "source": [
    "# Построим дерево по обучающей выборке\n",
    "my_tree = build_tree(train_data, train_labels)\n",
    "my_tree_entropy = build_tree_entropy(train_data, train_labels)\n"
   ]
  },
  {
   "cell_type": "code",
   "execution_count": 107,
   "id": "07d296e3",
   "metadata": {},
   "outputs": [
    {
     "data": {
      "text/plain": [
       "(90.0, 80.0)"
      ]
     },
     "execution_count": 107,
     "metadata": {},
     "output_type": "execute_result"
    }
   ],
   "source": [
    "# Получим ответы для обучающей выборки \n",
    "train_answers = predict(train_data, my_tree)\n",
    "# И получим ответы для тестовой выборки\n",
    "answers = predict(test_data, my_tree)\n",
    "# Точность на обучающей выборке\n",
    "train_accuracy = accuracy_metric(train_labels, train_answers)\n",
    "# Точность на тестовой выборке\n",
    "test_accuracy = accuracy_metric(test_labels, answers)\n",
    "\n",
    "train_accuracy, test_accuracy"
   ]
  },
  {
   "cell_type": "code",
   "execution_count": 108,
   "id": "bdbcc1a8",
   "metadata": {},
   "outputs": [
    {
     "data": {
      "text/plain": [
       "(90.0, 80.0)"
      ]
     },
     "execution_count": 108,
     "metadata": {},
     "output_type": "execute_result"
    }
   ],
   "source": [
    "# Получим ответы для обучающей выборки \n",
    "train_answers_e = predict(train_data, my_tree_entropy)\n",
    "# И получим ответы для тестовой выборки\n",
    "answers_e = predict(test_data, my_tree_entropy)\n",
    "# Точность на обучающей выборке\n",
    "train_accuracy_e = accuracy_metric(train_labels, train_answers_e)\n",
    "# Точность на тестовой выборке\n",
    "test_accuracy_e = accuracy_metric(test_labels, answers_e)\n",
    "\n",
    "train_accuracy_e, test_accuracy_e"
   ]
  },
  {
   "cell_type": "markdown",
   "id": "52d95a1f",
   "metadata": {},
   "source": [
    "__Вывод:__ Оценки получены одинаковые, вероятно поэтому изза простоты вычислений используется критерий джини.   "
   ]
  },
  {
   "cell_type": "markdown",
   "id": "78ffa3e7",
   "metadata": {},
   "source": [
    "__________________________________"
   ]
  },
  {
   "cell_type": "markdown",
   "id": "53300e08",
   "metadata": {},
   "source": [
    "__3 [опция]. Реализуйте дерево для задачи регрессии. Возьмите за основу дерево, реализованное в методичке, заменив механизм предсказания в листе на взятие среднего значения по выборке, и критерий Джини на дисперсию значений.__"
   ]
  },
  {
   "cell_type": "code",
   "execution_count": null,
   "id": "59e9700f",
   "metadata": {},
   "outputs": [],
   "source": [
    "# дерево для задачи регрессии, класс узла\n",
    "\n",
    "class Node:\n",
    "    \n",
    "    def __init__(self, index, t, true_branch, false_branch):\n",
    "        self.index = index  # индекс признака, по которому ведется сравнение с порогом в этом узле\n",
    "        self.t = t  # значение порога\n",
    "        self.true_branch = true_branch  # поддерево, удовлетворяющее условию в узле\n",
    "        self.false_branch = false_branch  # поддерево, не удовлетворяющее условию в узле\n",
    "        \n",
    "# дерево для задачи регрессии, класс терминального узла (листа)\n",
    "class Leaf:\n",
    "    \n",
    "    def __init__(self, data, labels):\n",
    "        self.data = data\n",
    "        self.labels = labels\n",
    "        self.prediction = self.predict()\n",
    "        \n",
    "    #заменив механизм предсказания в листе на взятие среднего значения по выборке\n",
    "    def predict(self):        \n",
    "        prediction = np.mean(self.labels)\n",
    "        return prediction                \n",
    "\n",
    "# Расчет критерия Джини -> на дисперсию значений\n",
    "def gini(labels):\n",
    "    sigma = np.mean( (labels - np.mean(labels))**2 )\n",
    "    return sigma"
   ]
  }
 ],
 "metadata": {
  "kernelspec": {
   "display_name": "Python 3 (ipykernel)",
   "language": "python",
   "name": "python3"
  },
  "language_info": {
   "codemirror_mode": {
    "name": "ipython",
    "version": 3
   },
   "file_extension": ".py",
   "mimetype": "text/x-python",
   "name": "python",
   "nbconvert_exporter": "python",
   "pygments_lexer": "ipython3",
   "version": "3.8.10"
  }
 },
 "nbformat": 4,
 "nbformat_minor": 5
}
