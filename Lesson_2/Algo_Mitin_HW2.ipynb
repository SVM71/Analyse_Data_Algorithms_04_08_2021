{
 "cells": [
  {
   "cell_type": "markdown",
   "metadata": {},
   "source": [
    "__Для самостоятельной работы__"
   ]
  },
  {
   "cell_type": "markdown",
   "metadata": {},
   "source": [
    "1. Сгенерировать датасет при помощи `sklearn.datasets.make_regression` и обучить линейную модель при помощи градиентного и стохастического градиентного спуска. Нанести среднеквадратичную ошибку для обоих методов на один график, сделать выводы о разнице скорости сходимости каждого из методов.\n"
   ]
  },
  {
   "cell_type": "code",
   "execution_count": 1,
   "metadata": {},
   "outputs": [],
   "source": [
    "import numpy as np\n",
    "import matplotlib.pyplot as plt\n",
    "from sklearn.datasets import make_regression"
   ]
  },
  {
   "cell_type": "code",
   "execution_count": 2,
   "metadata": {},
   "outputs": [],
   "source": [
    "def usr_mse(y, y_pred):\n",
    "    return np.sum((y-y_pred)**2)/len(y)\n",
    "\n",
    "def usr_mae(y, y_pred):\n",
    "    return np.sum(np.abs(y-y_pred))/len(y)\n"
   ]
  },
  {
   "cell_type": "code",
   "execution_count": 3,
   "metadata": {},
   "outputs": [],
   "source": [
    "n_samples, n_features = 10, 2\n",
    "\n",
    "error_REF = 1e-5\n",
    "rng = np.random.RandomState(1220)"
   ]
  },
  {
   "cell_type": "code",
   "execution_count": 4,
   "metadata": {},
   "outputs": [],
   "source": [
    "def usr_GradientDescent(X, y, W, alpha = 1e-2):\n",
    "    for i in range(1500):\n",
    "        y_pred = np.dot(X, W)\n",
    "        err = usr_mse(y, y_pred)\n",
    "        err_GD.append(err)\n",
    "        #eta = alpha/(i+1)  \n",
    "        W -= alpha * 1/len(y) * 2 * ( X.T.dot(y_pred - y))\n",
    "        if err <= error_REF:\n",
    "            print( f'{i}:\\tW:{W.round(3)},\\terr={round(err,3)}')\n",
    "            break\n",
    "            \n",
    "        if i % 100 == 0:\n",
    "            print( f'{i}:\\tW:{W.round(3)},\\terr={round(err,3)}')\n",
    "    return W\n",
    "\n",
    "def usr_classic_solve(X, y):\n",
    "    # решение только для mse  O(колич.признаков^3)\n",
    "    W = np.linalg.inv(np.dot(X,X.T)) @ X @ y\n",
    "    return W"
   ]
  },
  {
   "cell_type": "code",
   "execution_count": 5,
   "metadata": {},
   "outputs": [
    {
     "data": {
      "text/plain": [
       "(array([[ 0.13429455,  1.05892047],\n",
       "        [ 2.69855576, -0.17689956],\n",
       "        [-1.39054103, -0.03133653],\n",
       "        [ 0.08391987,  0.25057394],\n",
       "        [-1.70576731,  1.01223433],\n",
       "        [-0.89237575, -0.50335837],\n",
       "        [-1.02803622, -0.47688666],\n",
       "        [ 0.38330416,  0.00618366],\n",
       "        [ 1.78337896, -0.28482289],\n",
       "        [ 0.82749643, -0.20063808]]),\n",
       " array([ 60.05638344,  39.20216463, -26.86648264,  15.15470795,\n",
       "         24.22071988, -43.53982983, -44.55395005,   7.27221288,\n",
       "         16.76931278,   4.05442485]),\n",
       " array([0., 0.]))"
      ]
     },
     "execution_count": 5,
     "metadata": {},
     "output_type": "execute_result"
    }
   ],
   "source": [
    "# make_regression(n_samples=100, n_features=100, *, n_informative=10, n_targets=1, \n",
    "# bias=0.0, effective_rank=None, tail_strength=0.5, noise=0.0, shuffle=True, coef=False, random_state=None)\n",
    "X, y = make_regression(n_samples, n_features, random_state=rng)\n",
    "W_start = np.zeros(n_features) #rng.rand(n_features)\n",
    "W = W_start.copy()\n",
    "X, y, W"
   ]
  },
  {
   "cell_type": "code",
   "execution_count": 6,
   "metadata": {},
   "outputs": [],
   "source": [
    "# # Получим средние значения и стандартное отклонение по столбцам\n",
    "# means = np.mean(X, axis=0)\n",
    "# stds = np.std(X, axis=0)\n",
    "# # параметр axis указывается для вычисления значений по столбцам, а не по всему массиву\n",
    "# #(см. документацию в разделе источников)\n",
    " \n",
    "# # вычтем каждое значение признака из среднего и поделим на стандартное отклонение\n",
    "# for i in range(X.shape[0]):\n",
    "#     for j in range(X.shape[1]):\n",
    "#         X[i][j] = (X[i][j] - means[j])/stds[j]\n",
    "# X, y, W        "
   ]
  },
  {
   "cell_type": "code",
   "execution_count": 7,
   "metadata": {},
   "outputs": [
    {
     "data": {
      "text/plain": [
       "array([18.09450411, 54.4199418 ])"
      ]
     },
     "execution_count": 7,
     "metadata": {},
     "output_type": "execute_result"
    }
   ],
   "source": [
    "X_c, y_c = X.copy(), y.copy()\n",
    "W_classic = usr_classic_solve(X_c.T, y_c)\n",
    "y_classic_pred = np.dot(X_c, W_classic)\n",
    "W_classic#, y_classic_pred"
   ]
  },
  {
   "cell_type": "code",
   "execution_count": 8,
   "metadata": {},
   "outputs": [
    {
     "name": "stdout",
     "output_type": "stream",
     "text": [
      "0:\tW:[4.638 2.469],\terr=1091.3\n",
      "100:\tW:[18.069 54.191],\terr=0.016\n",
      "168:\tW:[18.094 54.414],\terr=0.0\n",
      "========================================\n"
     ]
    },
    {
     "data": {
      "text/plain": [
       "array([18.09386897, 54.41429786])"
      ]
     },
     "execution_count": 8,
     "metadata": {},
     "output_type": "execute_result"
    }
   ],
   "source": [
    "err_GD = [] # gradient descent errors\n",
    "err_SGD = [] # stochastic gradient Descent  errors\n",
    "X_gd, y_gd = X.copy(), y.copy()\n",
    "W_GD = usr_GradientDescent(X_gd, y_gd, W, 1e-1)\n",
    "print(20*'==')\n",
    "y_GD_pred = np.dot(X_gd, W_GD)\n",
    "W_GD#, y_GD_pred"
   ]
  },
  {
   "cell_type": "code",
   "execution_count": 9,
   "metadata": {},
   "outputs": [],
   "source": [
    "def usr_Stochastic_Gradient_Descent(X, y, W, alpha = 1e-5):\n",
    "    err = np.inf\n",
    "    i = 0\n",
    "    while err > 1e-6 and i < 15000:\n",
    "        i += 1\n",
    "        # генерируем случайный индекс объекта выборки\n",
    "        t_indx = np.random.randint(n_samples)\n",
    "        # вычислим y для этого индекса\n",
    "        y_pred = np.dot(X[t_indx,:], W)\n",
    "        \n",
    "        W -= 2 * alpha * 1/len(y) * ( X[t_indx,:].T.dot(y_pred - y[t_indx]))\n",
    "        # добавим \n",
    "        y_pred_mse = X.dot(W)\n",
    "        err = usr_mse(y, y_pred_mse) \n",
    "        err_SGD.append(err)\n",
    "        \n",
    "        if err <= error_REF:\n",
    "            print( f'{i}:\\tW:{W.round(3)},\\terr={round(err,3)}')\n",
    "            break        \n",
    "            \n",
    "        if i % 100 == 0:\n",
    "            print( f'{i}:\\tW:{W.round(3)},\\terr={round(err,3)}')\n",
    "    return W"
   ]
  },
  {
   "cell_type": "code",
   "execution_count": 10,
   "metadata": {},
   "outputs": [
    {
     "name": "stdout",
     "output_type": "stream",
     "text": [
      "100:\tW:[18.094 54.464],\terr=0.001\n",
      "111:\tW:[18.095 54.426],\terr=0.0\n",
      "=#=#=#=#=#=#=#=#=#=#=#=#=#=#=#=#=#=#=#=#=#=#=#=#=#=#=#=#=#=#=#=#=#=#=#=#=#=#=#=#\n"
     ]
    },
    {
     "data": {
      "text/plain": [
       "array([18.09491767, 54.4255839 ])"
      ]
     },
     "execution_count": 10,
     "metadata": {},
     "output_type": "execute_result"
    }
   ],
   "source": [
    "X_sgd, y_sgd = X.copy(), y.copy() #make_regression(n_samples, n_features, random_state=rng)\n",
    "W_sgd = W_start.copy()\n",
    "X_sgd, y_sgd, W_sgd\n",
    "\n",
    "err_SGD = [] # stochastic gradient descent  errors\n",
    "# Скорость спуска сильно зависит от альфа, если alpha = 1,то 90 шагов, alpha = 0,01 - 5280 шагов! \n",
    "W_SGD = usr_Stochastic_Gradient_Descent(X_sgd, y_sgd, W_sgd, alpha = 2)\n",
    "print(20*'=#=#')\n",
    "y_SGD_pred = np.dot(X_sgd, W_SGD)\n",
    "W_SGD#, y_SGD_pred"
   ]
  },
  {
   "cell_type": "code",
   "execution_count": 11,
   "metadata": {},
   "outputs": [
    {
     "data": {
      "image/png": "[encoded data removed]",
      "text/plain": [
       "<Figure size 720x360 with 1 Axes>"
      ]
     },
     "metadata": {
      "needs_background": "light"
     },
     "output_type": "display_data"
    }
   ],
   "source": [
    "plt.figure(figsize=(10, 5))\n",
    "plt.title('GD vs SGD')\n",
    "plt.xlabel(r'step')\n",
    "plt.ylabel(r'err')\n",
    "plt.plot(range(len(err_GD)), err_GD, 'm-', label = f'err_GD, iters = {len(err_GD)}')\n",
    "plt.plot(range(len(err_SGD)), err_SGD, 'g-', label = f'err_SGD, iters = {len(err_SGD)}')\n",
    "plt.legend(loc='upper right')\n",
    "plt.show()"
   ]
  },
  {
   "cell_type": "markdown",
   "metadata": {},
   "source": [
    "2. Модифицировать решение первого задания путем добавления $L_{2}$-регуляризации (в функцию, считающую MSE, нужно добавить норму вектора весов) и сравнить результаты."
   ]
  },
  {
   "cell_type": "code",
   "execution_count": 12,
   "metadata": {},
   "outputs": [],
   "source": [
    "def usr_L2_norm(y):\n",
    "    return np.sum(y**2)/len(y)\n",
    "\n",
    "def usr_Stochastic_Gradient_Descent_and_L2(X, y, W, alpha = 1e-5):\n",
    "    err = np.inf\n",
    "    i = 0\n",
    "    while err > 1e-6 and i < 15000:\n",
    "        i += 1\n",
    "        # генерируем случайный индекс объекта выборки\n",
    "        t_indx = np.random.randint(n_samples)\n",
    "        # вычислим y для этого индекса с учетом веса, своеобразный штраф \n",
    "        y_pred = np.dot(X[t_indx,:], W) + 1e-7 * usr_L2_norm(W)\n",
    "        \n",
    "        W -= 2 * alpha * 1/len(y) * ( X[t_indx,:].T.dot(y_pred - y[t_indx]))      \n",
    "        # добавим \n",
    "        y_pred_mse = X.dot(W)\n",
    "        err = usr_mse(y, y_pred_mse) \n",
    "        err_SGD_L2.append(err)\n",
    "        \n",
    "        if err <= error_REF:\n",
    "            print( f'{i}:\\tW:{W.round(3)},\\terr={round(err,3)}')\n",
    "            break        \n",
    "            \n",
    "        if i % 100 == 0:\n",
    "            print( f'{i}:\\tW:{W.round(3)},\\terr={round(err,3)}')\n",
    "    return W\n"
   ]
  },
  {
   "cell_type": "code",
   "execution_count": 13,
   "metadata": {},
   "outputs": [],
   "source": [
    "X_sgd_L2, y_sgd_L2 = X.copy(), y.copy() #make_regression(n_samples, n_features, random_state=rng)\n",
    "W_sgd_L2 = W_start.copy()\n",
    "err_SGD_L2 = []\n",
    "# X_sgd_L2, y_sgd_L2, W_sgd_L2"
   ]
  },
  {
   "cell_type": "code",
   "execution_count": 14,
   "metadata": {},
   "outputs": [
    {
     "name": "stdout",
     "output_type": "stream",
     "text": [
      "70:\tW:[18.093 54.419],\terr=0.0\n",
      "=#=#=#=#=#=#=#=#=#=#=#=#=#=#=#=#=#=#=#=#=#=#=#=#=#=#=#=#=#=#=#=#=#=#=#=#=#=#=#=#\n"
     ]
    },
    {
     "data": {
      "text/plain": [
       "array([18.09318435, 54.41941765])"
      ]
     },
     "execution_count": 14,
     "metadata": {},
     "output_type": "execute_result"
    }
   ],
   "source": [
    "W_SGD_L2 = usr_Stochastic_Gradient_Descent_and_L2(X_sgd_L2, y_sgd_L2, W_sgd_L2, alpha = 2)\n",
    "print(20*'=#=#')\n",
    "y_SGD_L2_pred = np.dot(X_sgd_L2, W_SGD_L2)\n",
    "W_SGD_L2#, y_SGD_L2_pred"
   ]
  },
  {
   "cell_type": "code",
   "execution_count": 15,
   "metadata": {},
   "outputs": [
    {
     "data": {
      "image/png": "[encoded data removed]",
      "text/plain": [
       "<Figure size 720x360 with 1 Axes>"
      ]
     },
     "metadata": {
      "needs_background": "light"
     },
     "output_type": "display_data"
    }
   ],
   "source": [
    "plt.figure(figsize=(10, 5))\n",
    "plt.title('SGD vs SGD_L2')\n",
    "plt.xlabel(r'step')\n",
    "plt.ylabel(r'err')\n",
    "plt.plot(range(len(err_SGD)), err_SGD, 'g-', label = f'err_SGD, iters = {len(err_SGD)}')\n",
    "plt.plot(range(len(err_SGD_L2)), err_SGD_L2, 'm-', label = f'err_SGD_L2, iters = {len(err_SGD_L2)}')\n",
    "plt.legend(loc='upper right')\n",
    "plt.show()"
   ]
  },
  {
   "cell_type": "markdown",
   "metadata": {},
   "source": [
    "3 _[опция]_. Модернизировать решение задания 2, заменив L2 регуляризацию на L1 регуляризацию."
   ]
  },
  {
   "cell_type": "code",
   "execution_count": 16,
   "metadata": {},
   "outputs": [],
   "source": [
    "def usr_L1_norm(y):\n",
    "    return np.sum(y**2)/len(y)\n",
    "\n",
    "def usr_Stochastic_Gradient_Descent_and_L1(X, y, W, alpha = 1e-5):\n",
    "    err = np.inf\n",
    "    i = 0\n",
    "    while err > 1e-6 and i < 15000:\n",
    "        i += 1\n",
    "        # генерируем случайный индекс объекта выборки\n",
    "        t_indx = np.random.randint(n_samples)\n",
    "        # вычислим y для этого индекса с учетом веса, своеобразный штраф \n",
    "        y_pred = np.dot(X[t_indx,:], W) + 1e-7 * usr_L1_norm(W)\n",
    "        \n",
    "        W -= 2 * alpha * 1/len(y) * ( X[t_indx,:].T.dot(y_pred - y[t_indx]))      \n",
    "        # добавим \n",
    "        y_pred_mse = X.dot(W)\n",
    "        err = usr_mse(y, y_pred_mse) \n",
    "        err_SGD_L1.append(err)\n",
    "        \n",
    "        if err <= error_REF:\n",
    "            print( f'{i}:\\tW:{W.round(3)},\\terr={round(err,3)}')\n",
    "            break        \n",
    "            \n",
    "        if i % 100 == 0:\n",
    "            print( f'{i}:\\tW:{W.round(3)},\\terr={round(err,3)}')\n",
    "    return W\n"
   ]
  },
  {
   "cell_type": "code",
   "execution_count": 17,
   "metadata": {},
   "outputs": [],
   "source": [
    "X_sgd_L1, y_sgd_L1 = X.copy(), y.copy() #make_regression(n_samples, n_features, random_state=rng)\n",
    "W_sgd_L1 = W_start.copy()\n",
    "err_SGD_L1 = []\n",
    "# X_sgd_L1, y_sgd_L1, W_sgd_L1"
   ]
  },
  {
   "cell_type": "code",
   "execution_count": 18,
   "metadata": {},
   "outputs": [
    {
     "name": "stdout",
     "output_type": "stream",
     "text": [
      "75:\tW:[18.094 54.414],\terr=0.0\n",
      "=#=#=#=#=#=#=#=#=#=#=#=#=#=#=#=#=#=#=#=#=#=#=#=#=#=#=#=#=#=#=#=#=#=#=#=#=#=#=#=#\n"
     ]
    },
    {
     "data": {
      "text/plain": [
       "array([18.09398244, 54.41385607])"
      ]
     },
     "execution_count": 18,
     "metadata": {},
     "output_type": "execute_result"
    }
   ],
   "source": [
    "W_SGD_L1 = usr_Stochastic_Gradient_Descent_and_L1(X_sgd_L1, y_sgd_L1, W_sgd_L1, alpha = 2)\n",
    "print(20*'=#=#')\n",
    "y_SGD_L1_pred = np.dot(X_sgd_L1, W_SGD_L1)\n",
    "W_SGD_L1#, y_SGD_L1_pred"
   ]
  },
  {
   "cell_type": "code",
   "execution_count": 19,
   "metadata": {},
   "outputs": [
    {
     "data": {
      "image/png": "[encoded data removed]",
      "text/plain": [
       "<Figure size 720x360 with 1 Axes>"
      ]
     },
     "metadata": {
      "needs_background": "light"
     },
     "output_type": "display_data"
    }
   ],
   "source": [
    "plt.figure(figsize=(10, 5))\n",
    "plt.title('SGD vs SGD_L2')\n",
    "plt.xlabel(r'step')\n",
    "plt.ylabel(r'err')\n",
    "plt.plot(range(len(err_SGD)), err_SGD, 'g-', label = f'err_SGD, iters = {len(err_SGD)}')\n",
    "plt.plot(range(len(err_SGD_L2)), err_SGD_L2, 'm-', label = f'err_SGD_L2, iters = {len(err_SGD_L2)}')\n",
    "plt.plot(range(len(err_SGD_L1)), err_SGD_L1, 'b-', label = f'err_SGD_L1, iters = {len(err_SGD_L1)}')\n",
    "plt.legend(loc='best')\n",
    "plt.show()"
   ]
  },
  {
   "cell_type": "code",
   "execution_count": null,
   "metadata": {},
   "outputs": [],
   "source": []
  },
  {
   "cell_type": "code",
   "execution_count": null,
   "metadata": {},
   "outputs": [],
   "source": []
  },
  {
   "cell_type": "code",
   "execution_count": null,
   "metadata": {},
   "outputs": [],
   "source": []
  }
 ],
 "metadata": {
  "kernelspec": {
   "display_name": "Python 3 (ipykernel)",
   "language": "python",
   "name": "python3"
  },
  "language_info": {
   "codemirror_mode": {
    "name": "ipython",
    "version": 3
   },
   "file_extension": ".py",
   "mimetype": "text/x-python",
   "name": "python",
   "nbconvert_exporter": "python",
   "pygments_lexer": "ipython3",
   "version": "3.8.10"
  }
 },
 "nbformat": 4,
 "nbformat_minor": 4
}
