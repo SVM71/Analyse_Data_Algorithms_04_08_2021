{
 "cells": [
  {
   "cell_type": "code",
   "execution_count": 1,
   "id": "95e4e40f",
   "metadata": {},
   "outputs": [],
   "source": [
    "import numpy as np\n",
    "import matplotlib.pyplot as plt"
   ]
  },
  {
   "cell_type": "code",
   "execution_count": 2,
   "id": "c1efcc6d",
   "metadata": {},
   "outputs": [],
   "source": [
    "y = [ 45, 55, 50, 59, 65, 35, 75, 80, 50, 60 ]"
   ]
  },
  {
   "cell_type": "code",
   "execution_count": 3,
   "id": "fa8b7754",
   "metadata": {},
   "outputs": [
    {
     "data": {
      "text/plain": [
       "(2, 10)"
      ]
     },
     "execution_count": 3,
     "metadata": {},
     "output_type": "execute_result"
    }
   ],
   "source": [
    "# y = k*x + b\n",
    "# y = k_1*x_1 + k_2*x_2 + ... + b\n",
    "X = np.array([\n",
    "    [1,1,1,1,1,1,1,1,1,1],\n",
    "    [1,1,2,1,3,0,5,10,1,2]\n",
    "])\n",
    "X.shape"
   ]
  },
  {
   "cell_type": "code",
   "execution_count": 4,
   "id": "e64463de",
   "metadata": {},
   "outputs": [
    {
     "data": {
      "text/plain": [
       "<matplotlib.legend.Legend at 0x7fcb0c9844f0>"
      ]
     },
     "execution_count": 4,
     "metadata": {},
     "output_type": "execute_result"
    },
    {
     "data": {
      "image/png": "[encoded data removed]",
      "text/plain": [
       "<Figure size 432x288 with 1 Axes>"
      ]
     },
     "metadata": {
      "needs_background": "light"
     },
     "output_type": "display_data"
    }
   ],
   "source": [
    "a = 2\n",
    "b = 50\n",
    "plt.scatter(X[1,:], y)\n",
    "# y = k*x + b\n",
    "plt.plot(X[1,:], a*X[1,:] + b, label = 'model_1' )\n",
    "plt.legend( loc='best')"
   ]
  },
  {
   "cell_type": "code",
   "execution_count": 5,
   "id": "7012a75b",
   "metadata": {},
   "outputs": [
    {
     "data": {
      "text/plain": [
       "<matplotlib.legend.Legend at 0x7fcb0c870580>"
      ]
     },
     "execution_count": 5,
     "metadata": {},
     "output_type": "execute_result"
    },
    {
     "data": {
      "image/png": "[encoded data removed]",
      "text/plain": [
       "<Figure size 720x432 with 1 Axes>"
      ]
     },
     "metadata": {
      "needs_background": "light"
     },
     "output_type": "display_data"
    }
   ],
   "source": [
    "fig = plt.figure(figsize=(10,6))\n",
    "plt.scatter(X[1], y)\n",
    "plt.plot(X[1], 35*X[0] + 5*X[1], label = 'model_1' )\n",
    "plt.plot(X[1], 40*X[0] + 7.5*X[1], label = 'model_2' )\n",
    "plt.legend(loc='upper left')"
   ]
  },
  {
   "cell_type": "code",
   "execution_count": 6,
   "id": "d8c56117",
   "metadata": {},
   "outputs": [],
   "source": [
    "y_pred1 = 35*X[0] + 5*X[1]\n",
    "y_pred2 = 40*X[0] + 7.5*X[1]"
   ]
  },
  {
   "cell_type": "code",
   "execution_count": 7,
   "id": "fc37e0c9",
   "metadata": {},
   "outputs": [],
   "source": [
    "from sklearn.metrics import mean_absolute_error as mae\n",
    "from sklearn.metrics import mean_squared_error as mse"
   ]
  },
  {
   "cell_type": "code",
   "execution_count": 8,
   "id": "77a8ab48",
   "metadata": {},
   "outputs": [
    {
     "data": {
      "text/plain": [
       "(10.4, 7.9)"
      ]
     },
     "execution_count": 8,
     "metadata": {},
     "output_type": "execute_result"
    }
   ],
   "source": [
    "err_usr_mae_1 = np.mean(np.abs(y-y_pred1))\n",
    "err_usr_mae_2 = np.mean(np.abs(y-y_pred2))\n",
    "err_usr_mae_1, err_usr_mae_2"
   ]
  },
  {
   "cell_type": "code",
   "execution_count": 9,
   "id": "b7232930",
   "metadata": {},
   "outputs": [
    {
     "data": {
      "text/plain": [
       "(10.4, 7.9)"
      ]
     },
     "execution_count": 9,
     "metadata": {},
     "output_type": "execute_result"
    }
   ],
   "source": [
    "err_mae_1 = mae(y,y_pred1)\n",
    "err_mae_2 = mae(y,y_pred2)\n",
    "err_mae_1, err_mae_2"
   ]
  },
  {
   "cell_type": "code",
   "execution_count": 10,
   "id": "662f638f",
   "metadata": {},
   "outputs": [
    {
     "data": {
      "text/plain": [
       "(143.6, 151.35)"
      ]
     },
     "execution_count": 10,
     "metadata": {},
     "output_type": "execute_result"
    }
   ],
   "source": [
    "err_usr_mse1 = np.mean((y-y_pred1)**2)\n",
    "err_usr_mse2 = np.mean((y-y_pred2)**2)\n",
    "err_usr_mse1, err_usr_mse2"
   ]
  },
  {
   "cell_type": "code",
   "execution_count": 11,
   "id": "2ef97540",
   "metadata": {},
   "outputs": [
    {
     "data": {
      "text/plain": [
       "(143.6, 151.35)"
      ]
     },
     "execution_count": 11,
     "metadata": {},
     "output_type": "execute_result"
    }
   ],
   "source": [
    "err_mse_1 = mse(y,y_pred1)\n",
    "err_mse_2 = mse(y,y_pred2)\n",
    "err_mse_1, err_mse_2"
   ]
  },
  {
   "cell_type": "code",
   "execution_count": 12,
   "id": "540ba2dc",
   "metadata": {},
   "outputs": [],
   "source": [
    "# mse ~ mean\n",
    "# mae ~ median\n",
    "\n",
    "# np.mean( y - np.mean(y) ) = дисперсия\n",
    "# y_pred1 = const -> mse' = 0 "
   ]
  },
  {
   "cell_type": "markdown",
   "id": "91ccc5bc",
   "metadata": {},
   "source": [
    "__Метод наименьших квадратов__"
   ]
  },
  {
   "cell_type": "code",
   "execution_count": 13,
   "id": "5c22494d",
   "metadata": {},
   "outputs": [
    {
     "data": {
      "text/plain": [
       "(2, 10)"
      ]
     },
     "execution_count": 13,
     "metadata": {},
     "output_type": "execute_result"
    }
   ],
   "source": [
    "X.shape"
   ]
  },
  {
   "cell_type": "code",
   "execution_count": 14,
   "id": "7f3d390d",
   "metadata": {},
   "outputs": [
    {
     "data": {
      "text/plain": [
       "(10, 2)"
      ]
     },
     "execution_count": 14,
     "metadata": {},
     "output_type": "execute_result"
    }
   ],
   "source": [
    "X.T.shape"
   ]
  },
  {
   "cell_type": "code",
   "execution_count": 15,
   "id": "30f96082",
   "metadata": {},
   "outputs": [
    {
     "data": {
      "text/plain": [
       "array([47.23214286,  3.91071429])"
      ]
     },
     "execution_count": 15,
     "metadata": {},
     "output_type": "execute_result"
    }
   ],
   "source": [
    "# решение только для mse  O(колич.признаков^3)\n",
    "W = np.linalg.inv(np.dot(X,X.T)) @ X @ y\n",
    "W"
   ]
  },
  {
   "cell_type": "code",
   "execution_count": 16,
   "id": "95a17c0c",
   "metadata": {},
   "outputs": [
    {
     "data": {
      "text/plain": [
       "(6.182142857142856, 45.937499999999986)"
      ]
     },
     "execution_count": 16,
     "metadata": {},
     "output_type": "execute_result"
    }
   ],
   "source": [
    "Y_pred_norm = W[0] + W[1]*X[1]\n",
    "\n",
    "err_mae_norm = mae(y, Y_pred_norm)\n",
    "err_mse_norm = mse(y, Y_pred_norm)\n",
    "err_mae_norm, err_mse_norm"
   ]
  },
  {
   "cell_type": "code",
   "execution_count": 17,
   "id": "f330778a",
   "metadata": {},
   "outputs": [
    {
     "data": {
      "text/plain": [
       "array([51.14285714, 51.14285714, 55.05357143, 51.14285714, 58.96428571,\n",
       "       47.23214286, 66.78571429, 86.33928571, 51.14285714, 55.05357143])"
      ]
     },
     "execution_count": 17,
     "metadata": {},
     "output_type": "execute_result"
    }
   ],
   "source": [
    "Y_pred_norm"
   ]
  },
  {
   "cell_type": "code",
   "execution_count": 18,
   "id": "5598f8fc",
   "metadata": {},
   "outputs": [
    {
     "data": {
      "text/plain": [
       "6.777720855862978"
      ]
     },
     "execution_count": 18,
     "metadata": {},
     "output_type": "execute_result"
    }
   ],
   "source": [
    "#RMSE - СКО root mean squared err или среднеквадратическая ошибка\n",
    "np.sqrt(err_mse_norm)"
   ]
  },
  {
   "cell_type": "code",
   "execution_count": 19,
   "id": "ad8080a8",
   "metadata": {},
   "outputs": [
    {
     "name": "stdout",
     "output_type": "stream",
     "text": [
      " err_mae_norm = 6.2, VS err_usr_mae_1 = 10.4, or err_usr_mae_2 = 7.9\n",
      " err_mse_norm = 45.9, VS err_usr_mse_1 = 143.6, or err_usr_mse_2 = 151.35\n"
     ]
    }
   ],
   "source": [
    "print(f' err_mae_norm = {round(err_mae_norm,1)},\\\n",
    " VS err_usr_mae_1 = {err_usr_mae_1}, or err_usr_mae_2 = {err_usr_mae_2}')\n",
    "print(f' err_mse_norm = {round(err_mse_norm,1)},\\\n",
    " VS err_usr_mse_1 = {err_usr_mse1}, or err_usr_mse_2 = {err_usr_mse2}')"
   ]
  },
  {
   "cell_type": "code",
   "execution_count": 20,
   "id": "ca8a9e03",
   "metadata": {},
   "outputs": [
    {
     "data": {
      "text/plain": [
       "<matplotlib.legend.Legend at 0x7fcaf5ed4670>"
      ]
     },
     "execution_count": 20,
     "metadata": {},
     "output_type": "execute_result"
    },
    {
     "data": {
      "image/png": "[encoded data removed]",
      "text/plain": [
       "<Figure size 720x432 with 1 Axes>"
      ]
     },
     "metadata": {
      "needs_background": "light"
     },
     "output_type": "display_data"
    }
   ],
   "source": [
    "fig = plt.figure(figsize=(10,6))\n",
    "plt.scatter(X[1], y)\n",
    "plt.plot(X[1], 35*X[0] + 5*X[1], label = 'model_1' )\n",
    "plt.plot(X[1], 40*X[0] + 7.5*X[1], label = 'model_2' )\n",
    "plt.plot(X[1], Y_pred_norm, label = 'model_3' )\n",
    "plt.legend(loc='upper left')"
   ]
  },
  {
   "cell_type": "markdown",
   "id": "95614624",
   "metadata": {},
   "source": [
    "__Градиентный спуск__"
   ]
  },
  {
   "cell_type": "markdown",
   "id": "a2b7449b",
   "metadata": {},
   "source": [
    "Формулу вычисления MSE можно привести к виду:<br>\n",
    "__np.mean(( $y_{pred} - y)^2$)__ => <br>\n",
    "__np.mean(( $W*X - y)^2$)__      => <br>\n",
    "__np.sum((W*x-y)**2)/n__ => $\\frac{1}{n}\\dot\\sum{( W * X - y)^2}$ => <br>\n",
    "\n",
    "Что бы найти коэффициенты W нужно решить $(( W * X - y)^2)' = 0$ <br>\n",
    "$(( W * X - y)^2)' = 2*( W * X - y)*X  = 0$ <br>\n",
    "$ w_k = 2*( W * X - y)*X $ <br>\n",
    "$ w_0 = 2*( W - y) $ <br>"
   ]
  },
  {
   "cell_type": "markdown",
   "id": "547a398b",
   "metadata": {},
   "source": [
    "__Подберите скорость обучения и количество итераций__"
   ]
  },
  {
   "cell_type": "markdown",
   "id": "3848a884",
   "metadata": {},
   "source": [
    "n = 10\n",
    "f = 1/n*np.sum((W[0]*X[0] - y)**2)\n",
    "alpha = 1e-8\n",
    "fproizv = 1/n * 2 * np.sum( X[0] * (W[0]*X[0] - y) )\n",
    "g = alpha*fproizv\n",
    "W[0] - g"
   ]
  },
  {
   "cell_type": "code",
   "execution_count": 75,
   "id": "6697d47b",
   "metadata": {},
   "outputs": [
    {
     "data": {
      "text/plain": [
       "(array([1. , 0.5]),\n",
       " 0.01,\n",
       " array([[ 1,  1,  1,  1,  1,  1,  1,  1,  1,  1],\n",
       "        [ 1,  1,  2,  1,  3,  0,  5, 10,  1,  2]]))"
      ]
     },
     "execution_count": 75,
     "metadata": {},
     "output_type": "execute_result"
    }
   ],
   "source": [
    "n = X.shape[1]\n",
    "alpha = 1e-2\n",
    "W = np.array([1, 0.5])\n",
    "W, alpha, X"
   ]
  },
  {
   "cell_type": "code",
   "execution_count": 76,
   "id": "55e880b7",
   "metadata": {},
   "outputs": [],
   "source": [
    "def usr_mse(y, y_pred):\n",
    "    return np.sum((y-y_pred)**2)/len(y)"
   ]
  },
  {
   "cell_type": "code",
   "execution_count": 77,
   "id": "f7a4862a",
   "metadata": {},
   "outputs": [],
   "source": [
    "# for i in range(1500):\n",
    "#     y_pred = np.dot(W, X)\n",
    "#     err = usr_mse(y, y_pred)\n",
    "# #     for ii in range( W.shape[0] ):\n",
    "# #         W[ii] -= alpha * (1/n * 2 * np.sum( X[ii] * (y_pred - y) ))\n",
    "# # Задание 2: Исправить ошибку при итерации по весам:\n",
    "#     W -= alpha * 1/n * 2 * ( X.dot(y_pred - y))\n",
    "#     if i % 100 == 0:\n",
    "#         print( f'{i}:\\tW:{W.round(3)},\\terr={round(err,3)}')"
   ]
  },
  {
   "cell_type": "markdown",
   "id": "8482b584",
   "metadata": {},
   "source": [
    "Итерации следует продолжать, пока не наступает сходимость. Она определяется разными способами, но в даннном случае удобно определять как ситуацию, когда векторы весов от шага к шагу изменяются незначительно, то есть норма отклонения вектора весов на текущем шаге от предыдущего не привышает заданное значение $\\varepsilon$:<br>\n",
    "$||w^{k}-w^{k-1}|| < \\varepsilon.$<br>\n",
    "Применяется методика использования переменного размера шага: на начальных этапах берется большой шаг, который с увеличением количества итераций снижается. Одна из таких методик - вычисление на каждой итерации размера шага по формуле:<br>\n",
    "$\\eta_{k} = \\frac{c}{k},$<br>\n",
    "где $c$ - некоторая константа, а $k$ - номер шага."
   ]
  },
  {
   "cell_type": "code",
   "execution_count": 78,
   "id": "308d66a3",
   "metadata": {},
   "outputs": [
    {
     "name": "stdout",
     "output_type": "stream",
     "text": [
      "0:\tW:[2.102 3.9  ],\terr=3173.15\t w_err=6.387202\n",
      "100:\tW:[31.888  6.744],\terr=175.194\t w_err=0.01344\n",
      "200:\tW:[41.837  4.907],\terr=61.918\t w_err=0.001662\n",
      "225:\tW:[43.078  4.678],\terr=55.413\t w_err=0.000985\n"
     ]
    }
   ],
   "source": [
    "W_prev = W.copy()\n",
    "for i in range(1500):\n",
    "    y_pred = np.dot(W, X)\n",
    "    err = usr_mse(y, y_pred)\n",
    "    eta = alpha/(i/100+1)  \n",
    "    W -= 2 * alpha * 1/n * ( X.dot(y_pred - y))\n",
    "    w_err = usr_mse(W_prev, W)\n",
    "    if w_err <= 1e-3:\n",
    "        print( f'{i}:\\tW:{W.round(3)},\\terr={round(err,3)}\\t w_err={round(w_err,6)}')\n",
    "        break\n",
    "    W_prev = W.copy()\n",
    "    if i % 100 == 0:\n",
    "        print( f'{i}:\\tW:{W.round(3)},\\terr={round(err,3)}\\t w_err={round(w_err,6)}')"
   ]
  },
  {
   "cell_type": "code",
   "execution_count": 79,
   "id": "c9776b87",
   "metadata": {},
   "outputs": [
    {
     "data": {
      "text/plain": [
       "<matplotlib.legend.Legend at 0x7fcaf5965310>"
      ]
     },
     "execution_count": 79,
     "metadata": {},
     "output_type": "execute_result"
    },
    {
     "data": {
      "image/png": "[encoded data removed]",
      "text/plain": [
       "<Figure size 576x288 with 1 Axes>"
      ]
     },
     "metadata": {
      "needs_background": "light"
     },
     "output_type": "display_data"
    }
   ],
   "source": [
    "fig = plt.figure(figsize=(8,4))\n",
    "plt.scatter(X[1], y)\n",
    "plt.plot(X[1], Y_pred_norm, label = 'model_3' )\n",
    "plt.plot(X[1], y_pred, label = 'model_gradient' )\n",
    "plt.legend(loc='upper left')"
   ]
  },
  {
   "cell_type": "code",
   "execution_count": null,
   "id": "aa3fe6da",
   "metadata": {},
   "outputs": [],
   "source": []
  },
  {
   "cell_type": "code",
   "execution_count": null,
   "id": "29982cdc",
   "metadata": {},
   "outputs": [],
   "source": []
  },
  {
   "cell_type": "code",
   "execution_count": null,
   "id": "2d7627ea",
   "metadata": {},
   "outputs": [],
   "source": []
  }
 ],
 "metadata": {
  "kernelspec": {
   "display_name": "Python 3 (ipykernel)",
   "language": "python",
   "name": "python3"
  },
  "language_info": {
   "codemirror_mode": {
    "name": "ipython",
    "version": 3
   },
   "file_extension": ".py",
   "mimetype": "text/x-python",
   "name": "python",
   "nbconvert_exporter": "python",
   "pygments_lexer": "ipython3",
   "version": "3.8.10"
  }
 },
 "nbformat": 4,
 "nbformat_minor": 5
}
